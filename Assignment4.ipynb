{
 "cells": [
  {
   "cell_type": "code",
   "execution_count": 1,
   "id": "6b913763-83d3-4dcc-984c-32256f60f3da",
   "metadata": {},
   "outputs": [
    {
     "name": "stdout",
     "output_type": "stream",
     "text": [
      "1\n",
      "2\n",
      "3\n",
      "4\n",
      "5\n"
     ]
    }
   ],
   "source": [
    "# Print numbers from 1 to 5 using a while loop.\n",
    "n=5\n",
    "i=1\n",
    "while i <=5:\n",
    "    print(i)\n",
    "    i = i+1"
   ]
  },
  {
   "cell_type": "code",
   "execution_count": 15,
   "id": "1b0db2c2-3b4a-4844-ace8-c667d1350a05",
   "metadata": {},
   "outputs": [
    {
     "name": "stdout",
     "output_type": "stream",
     "text": [
      "The sum of numbers from 1 to 10 is: 55\n"
     ]
    }
   ],
   "source": [
    "# Calculate the sum of numbers from 1 to 10  using a while loop.\n",
    "s = 0\n",
    "i = 1\n",
    "\n",
    "while i <= 10:\n",
    "    s += i\n",
    "    i += 1\n",
    "\n",
    "\n",
    "print(\"The sum of numbers from 1 to 10 is:\", s)\n"
   ]
  },
  {
   "cell_type": "code",
   "execution_count": 20,
   "id": "99e220a6-84e9-4b98-ae44-eb8bf1c0f6f7",
   "metadata": {},
   "outputs": [
    {
     "name": "stdin",
     "output_type": "stream",
     "text": [
      "enter the number: 5\n"
     ]
    },
    {
     "name": "stdout",
     "output_type": "stream",
     "text": [
      "factorial of 5 is 120\n"
     ]
    }
   ],
   "source": [
    "#Calculate the factorial of a number using a for loop.\n",
    "n=int(input(\"enter the number:\"))\n",
    "result=1\n",
    "for i in range(n,0,-1):\n",
    "    result=result*i\n",
    "print(\"factorial of\",n,\"is\",result)"
   ]
  },
  {
   "cell_type": "code",
   "execution_count": 22,
   "id": "204e9bc8-64f4-48c7-91cc-d93ff9857b52",
   "metadata": {},
   "outputs": [
    {
     "name": "stdin",
     "output_type": "stream",
     "text": [
      "enter the sentence HELLO WORLD\n"
     ]
    },
    {
     "name": "stdout",
     "output_type": "stream",
     "text": [
      "hello world\n",
      "number of vowels in given sentence is: 3\n"
     ]
    }
   ],
   "source": [
    "# Count the number of vowels in a string using a for loop.\n",
    "sentence=input(\"enter the sentence\")\n",
    "string=sentence.lower()\n",
    "print(string)\n",
    "count=0\n",
    "list1=[\"a\",\"e\",\"i\",\"o\",\"u\"]\n",
    "for char in string:\n",
    "    if char in list1:\n",
    "        count=count+1\n",
    "print(\"number of vowels in given sentence is:\",count)"
   ]
  },
  {
   "cell_type": "code",
   "execution_count": 66,
   "id": "17584e0b-c644-4710-8a7a-5c607384936f",
   "metadata": {},
   "outputs": [
    {
     "name": "stdin",
     "output_type": "stream",
     "text": [
      "enter the no of rows: 5\n"
     ]
    },
    {
     "name": "stdout",
     "output_type": "stream",
     "text": [
      "    * \n",
      "   * * \n",
      "  * * * \n",
      " * * * * \n",
      "* * * * * \n"
     ]
    }
   ],
   "source": [
    "# Print a pattern using nested loop.\n",
    "n=int(input(\"enter the no of rows:\"))\n",
    "for i in range (n):\n",
    "    for j in range (n-i-1):\n",
    "         print(\" \", end=\"\")\n",
    "        \n",
    "    for j in range (i+1):\n",
    "         print(\"*\", end=\" \")\n",
    "    print()\n",
    "               \n",
    "                \n",
    "      "
   ]
  },
  {
   "cell_type": "code",
   "execution_count": 11,
   "id": "caa2623d-3baa-4820-bcbe-de67f2d82e7f",
   "metadata": {},
   "outputs": [
    {
     "ename": "IndentationError",
     "evalue": "expected an indented block after 'for' statement on line 3 (2367007789.py, line 4)",
     "output_type": "error",
     "traceback": [
      "\u001b[0;36m  Cell \u001b[0;32mIn[11], line 4\u001b[0;36m\u001b[0m\n\u001b[0;31m    print(n,\"*\",i,\"=\",n*1)\u001b[0m\n\u001b[0m    ^\u001b[0m\n\u001b[0;31mIndentationError\u001b[0m\u001b[0;31m:\u001b[0m expected an indented block after 'for' statement on line 3\n"
     ]
    }
   ],
   "source": [
    "# Generate a multiplication table using nested loop.\n",
    "n=int(input(\"enter the number:\"))\n",
    "for i in range(1,11):\n",
    "    print(n,\"*\",i,\"=\",n*1)\n",
    "    "
   ]
  },
  {
   "cell_type": "code",
   "execution_count": null,
   "id": "755838b8-38fa-435e-9c8f-501b8910a806",
   "metadata": {},
   "outputs": [],
   "source": []
  }
 ],
 "metadata": {
  "kernelspec": {
   "display_name": "Python 3 (ipykernel)",
   "language": "python",
   "name": "python3"
  },
  "language_info": {
   "codemirror_mode": {
    "name": "ipython",
    "version": 3
   },
   "file_extension": ".py",
   "mimetype": "text/x-python",
   "name": "python",
   "nbconvert_exporter": "python",
   "pygments_lexer": "ipython3",
   "version": "3.10.8"
  }
 },
 "nbformat": 4,
 "nbformat_minor": 5
}
